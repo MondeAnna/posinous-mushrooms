{
 "cells": [
  {
   "cell_type": "markdown",
   "id": "07bdca8c",
   "metadata": {},
   "source": [
    "<h1 align=\"center\">Mushrooms</h1>\n",
    "<h5 align=\"center\">by</h5>\n",
    "<h3 align=\"center\">Monde Anna</h3>\n",
    "\n",
    "<br />\n",
    "<br />\n"
   ]
  },
  {
   "cell_type": "markdown",
   "id": "7b6e05ea",
   "metadata": {},
   "source": [
    "<h3 align=\"center\">Edible or Not</h3>\n",
    "<h5 align=\"center\">Predicted with the Aid of Decision Trees</h5>\n",
    "\n",
    "<br />\n",
    "\n",
    "<p>We will train a <b><i>Decision Tree</i></b> model on 23 species of gilled mushrooms in the Agaricus and Lepiota Family and further test the accuracy of said model.</p>\n",
    "\n",
    "<br />\n",
    "<br />\n"
   ]
  },
  {
   "cell_type": "code",
   "execution_count": 1,
   "id": "22b485e5",
   "metadata": {},
   "outputs": [],
   "source": [
    "from sklearn.metrics import mean_squared_error as MSE\n",
    "from sklearn.model_selection import train_test_split\n",
    "from sklearn.preprocessing import OrdinalEncoder\n",
    "from sklearn.tree import DecisionTreeClassifier\n",
    "from sklearn.metrics import precision_score\n",
    "from sklearn.metrics import accuracy_score\n",
    "from sklearn.metrics import recall_score\n",
    "import matplotlib.pyplot as plt\n",
    "import seaborn as sns\n",
    "import pandas as pd\n",
    "import numpy as np\n"
   ]
  },
  {
   "cell_type": "markdown",
   "id": "63d2e818",
   "metadata": {},
   "source": [
    "<br />\n",
    "\n",
    "<h3 align=\"center\">Globals</h3>\n",
    "\n",
    "<br />\n",
    "<br />\n"
   ]
  },
  {
   "cell_type": "code",
   "execution_count": 2,
   "id": "0531dae3",
   "metadata": {},
   "outputs": [],
   "source": [
    "SEED = 42\n",
    "SERIES = pd.core.series.Series\n"
   ]
  }
 ],
 "metadata": {
  "kernelspec": {
   "display_name": "Python 3 (ipykernel)",
   "language": "python",
   "name": "python3"
  },
  "language_info": {
   "codemirror_mode": {
    "name": "ipython",
    "version": 3
   },
   "file_extension": ".py",
   "mimetype": "text/x-python",
   "name": "python",
   "nbconvert_exporter": "python",
   "pygments_lexer": "ipython3",
   "version": "3.9.12"
  }
 },
 "nbformat": 4,
 "nbformat_minor": 5
}
